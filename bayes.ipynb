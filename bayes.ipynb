{
 "cells": [
  {
   "cell_type": "code",
   "execution_count": 1,
   "metadata": {},
   "outputs": [],
   "source": [
    "import numpy as np\n",
    "import pandas as pd\n",
    "import matplotlib.pyplot as plt\n",
    "from matplotlib.colors import ListedColormap\n",
    "import warnings\n",
    "import sklearn\n",
    "from sklearn import tree\n",
    "from sklearn.naive_bayes import GaussianNB"
   ]
  },
  {
   "cell_type": "code",
   "execution_count": 2,
   "metadata": {},
   "outputs": [],
   "source": [
    "trainx=pd.read_csv(\"./HeartDisease.csv\")"
   ]
  },
  {
   "cell_type": "code",
   "execution_count": 3,
   "metadata": {},
   "outputs": [
    {
     "name": "stdout",
     "output_type": "stream",
     "text": [
      "   ID  Age  Sex  cp  trestbps   chol  fbs  restecg  thalach  exang  oldpeak  \\\n",
      "0   1   28    1   2     130.0  132.0  0.0      2.0    185.0    0.0      0.0   \n",
      "1   2   29    1   2     120.0  243.0  0.0      0.0    160.0    0.0      0.0   \n",
      "2   3   29    1   2     140.0    NaN  0.0      0.0    170.0    0.0      0.0   \n",
      "3   4   30    0   1     170.0  237.0  0.0      1.0    170.0    0.0      0.0   \n",
      "4   5   31    0   2     100.0  219.0  0.0      1.0    150.0    0.0      0.0   \n",
      "\n",
      "   num    Place  \n",
      "0    0  Hungary  \n",
      "1    0  Hungary  \n",
      "2    0  Hungary  \n",
      "3    0  Hungary  \n",
      "4    0  Hungary  \n"
     ]
    }
   ],
   "source": [
    "print(trainx.head())"
   ]
  },
  {
   "cell_type": "code",
   "execution_count": 4,
   "metadata": {},
   "outputs": [
    {
     "data": {
      "text/html": [
       "<div>\n",
       "<style scoped>\n",
       "    .dataframe tbody tr th:only-of-type {\n",
       "        vertical-align: middle;\n",
       "    }\n",
       "\n",
       "    .dataframe tbody tr th {\n",
       "        vertical-align: top;\n",
       "    }\n",
       "\n",
       "    .dataframe thead th {\n",
       "        text-align: right;\n",
       "    }\n",
       "</style>\n",
       "<table border=\"1\" class=\"dataframe\">\n",
       "  <thead>\n",
       "    <tr style=\"text-align: right;\">\n",
       "      <th></th>\n",
       "      <th>ID</th>\n",
       "      <th>Age</th>\n",
       "      <th>Sex</th>\n",
       "      <th>cp</th>\n",
       "      <th>trestbps</th>\n",
       "      <th>chol</th>\n",
       "      <th>fbs</th>\n",
       "      <th>restecg</th>\n",
       "      <th>thalach</th>\n",
       "      <th>exang</th>\n",
       "      <th>oldpeak</th>\n",
       "      <th>num</th>\n",
       "    </tr>\n",
       "  </thead>\n",
       "  <tbody>\n",
       "    <tr>\n",
       "      <td>count</td>\n",
       "      <td>457.000000</td>\n",
       "      <td>457.000000</td>\n",
       "      <td>457.000000</td>\n",
       "      <td>457.000000</td>\n",
       "      <td>424.000000</td>\n",
       "      <td>431.000000</td>\n",
       "      <td>403.000000</td>\n",
       "      <td>455.000000</td>\n",
       "      <td>424.000000</td>\n",
       "      <td>424.000000</td>\n",
       "      <td>421.000000</td>\n",
       "      <td>457.000000</td>\n",
       "    </tr>\n",
       "    <tr>\n",
       "      <td>mean</td>\n",
       "      <td>229.000000</td>\n",
       "      <td>50.962801</td>\n",
       "      <td>0.796499</td>\n",
       "      <td>3.155361</td>\n",
       "      <td>131.488208</td>\n",
       "      <td>200.048724</td>\n",
       "      <td>0.138958</td>\n",
       "      <td>0.356044</td>\n",
       "      <td>134.910377</td>\n",
       "      <td>0.358491</td>\n",
       "      <td>0.622090</td>\n",
       "      <td>0.459519</td>\n",
       "    </tr>\n",
       "    <tr>\n",
       "      <td>std</td>\n",
       "      <td>132.068795</td>\n",
       "      <td>9.219588</td>\n",
       "      <td>0.403043</td>\n",
       "      <td>0.943548</td>\n",
       "      <td>18.829454</td>\n",
       "      <td>113.463794</td>\n",
       "      <td>0.346332</td>\n",
       "      <td>0.590529</td>\n",
       "      <td>24.251177</td>\n",
       "      <td>0.480124</td>\n",
       "      <td>0.922115</td>\n",
       "      <td>0.498905</td>\n",
       "    </tr>\n",
       "    <tr>\n",
       "      <td>min</td>\n",
       "      <td>1.000000</td>\n",
       "      <td>28.000000</td>\n",
       "      <td>0.000000</td>\n",
       "      <td>1.000000</td>\n",
       "      <td>80.000000</td>\n",
       "      <td>0.000000</td>\n",
       "      <td>0.000000</td>\n",
       "      <td>0.000000</td>\n",
       "      <td>69.000000</td>\n",
       "      <td>0.000000</td>\n",
       "      <td>-2.600000</td>\n",
       "      <td>0.000000</td>\n",
       "    </tr>\n",
       "    <tr>\n",
       "      <td>25%</td>\n",
       "      <td>115.000000</td>\n",
       "      <td>45.000000</td>\n",
       "      <td>1.000000</td>\n",
       "      <td>2.000000</td>\n",
       "      <td>120.000000</td>\n",
       "      <td>171.000000</td>\n",
       "      <td>0.000000</td>\n",
       "      <td>0.000000</td>\n",
       "      <td>118.000000</td>\n",
       "      <td>0.000000</td>\n",
       "      <td>0.000000</td>\n",
       "      <td>0.000000</td>\n",
       "    </tr>\n",
       "    <tr>\n",
       "      <td>50%</td>\n",
       "      <td>229.000000</td>\n",
       "      <td>52.000000</td>\n",
       "      <td>1.000000</td>\n",
       "      <td>3.000000</td>\n",
       "      <td>130.000000</td>\n",
       "      <td>220.000000</td>\n",
       "      <td>0.000000</td>\n",
       "      <td>0.000000</td>\n",
       "      <td>135.000000</td>\n",
       "      <td>0.000000</td>\n",
       "      <td>0.000000</td>\n",
       "      <td>0.000000</td>\n",
       "    </tr>\n",
       "    <tr>\n",
       "      <td>75%</td>\n",
       "      <td>343.000000</td>\n",
       "      <td>57.000000</td>\n",
       "      <td>1.000000</td>\n",
       "      <td>4.000000</td>\n",
       "      <td>140.000000</td>\n",
       "      <td>269.500000</td>\n",
       "      <td>0.000000</td>\n",
       "      <td>1.000000</td>\n",
       "      <td>150.000000</td>\n",
       "      <td>1.000000</td>\n",
       "      <td>1.000000</td>\n",
       "      <td>1.000000</td>\n",
       "    </tr>\n",
       "    <tr>\n",
       "      <td>max</td>\n",
       "      <td>457.000000</td>\n",
       "      <td>75.000000</td>\n",
       "      <td>1.000000</td>\n",
       "      <td>4.000000</td>\n",
       "      <td>200.000000</td>\n",
       "      <td>603.000000</td>\n",
       "      <td>1.000000</td>\n",
       "      <td>2.000000</td>\n",
       "      <td>190.000000</td>\n",
       "      <td>1.000000</td>\n",
       "      <td>5.000000</td>\n",
       "      <td>1.000000</td>\n",
       "    </tr>\n",
       "  </tbody>\n",
       "</table>\n",
       "</div>"
      ],
      "text/plain": [
       "               ID         Age         Sex          cp    trestbps        chol  \\\n",
       "count  457.000000  457.000000  457.000000  457.000000  424.000000  431.000000   \n",
       "mean   229.000000   50.962801    0.796499    3.155361  131.488208  200.048724   \n",
       "std    132.068795    9.219588    0.403043    0.943548   18.829454  113.463794   \n",
       "min      1.000000   28.000000    0.000000    1.000000   80.000000    0.000000   \n",
       "25%    115.000000   45.000000    1.000000    2.000000  120.000000  171.000000   \n",
       "50%    229.000000   52.000000    1.000000    3.000000  130.000000  220.000000   \n",
       "75%    343.000000   57.000000    1.000000    4.000000  140.000000  269.500000   \n",
       "max    457.000000   75.000000    1.000000    4.000000  200.000000  603.000000   \n",
       "\n",
       "              fbs     restecg     thalach       exang     oldpeak         num  \n",
       "count  403.000000  455.000000  424.000000  424.000000  421.000000  457.000000  \n",
       "mean     0.138958    0.356044  134.910377    0.358491    0.622090    0.459519  \n",
       "std      0.346332    0.590529   24.251177    0.480124    0.922115    0.498905  \n",
       "min      0.000000    0.000000   69.000000    0.000000   -2.600000    0.000000  \n",
       "25%      0.000000    0.000000  118.000000    0.000000    0.000000    0.000000  \n",
       "50%      0.000000    0.000000  135.000000    0.000000    0.000000    0.000000  \n",
       "75%      0.000000    1.000000  150.000000    1.000000    1.000000    1.000000  \n",
       "max      1.000000    2.000000  190.000000    1.000000    5.000000    1.000000  "
      ]
     },
     "execution_count": 4,
     "metadata": {},
     "output_type": "execute_result"
    }
   ],
   "source": [
    "trainx.describe()"
   ]
  },
  {
   "cell_type": "markdown",
   "metadata": {},
   "source": [
    "Pasamos la variable de lugar a nuerica. 0 para hungary, 1 para VA y 2 para otros"
   ]
  },
  {
   "cell_type": "code",
   "execution_count": 5,
   "metadata": {},
   "outputs": [
    {
     "name": "stderr",
     "output_type": "stream",
     "text": [
      "/home/dacer/anaconda3/envs/proyecto/lib/python3.7/site-packages/ipykernel_launcher.py:2: SettingWithCopyWarning: \n",
      "A value is trying to be set on a copy of a slice from a DataFrame\n",
      "\n",
      "See the caveats in the documentation: http://pandas.pydata.org/pandas-docs/stable/user_guide/indexing.html#returning-a-view-versus-a-copy\n",
      "  \n",
      "/home/dacer/anaconda3/envs/proyecto/lib/python3.7/site-packages/ipykernel_launcher.py:3: SettingWithCopyWarning: \n",
      "A value is trying to be set on a copy of a slice from a DataFrame\n",
      "\n",
      "See the caveats in the documentation: http://pandas.pydata.org/pandas-docs/stable/user_guide/indexing.html#returning-a-view-versus-a-copy\n",
      "  This is separate from the ipykernel package so we can avoid doing imports until\n",
      "/home/dacer/anaconda3/envs/proyecto/lib/python3.7/site-packages/ipykernel_launcher.py:4: SettingWithCopyWarning: \n",
      "A value is trying to be set on a copy of a slice from a DataFrame\n",
      "\n",
      "See the caveats in the documentation: http://pandas.pydata.org/pandas-docs/stable/user_guide/indexing.html#returning-a-view-versus-a-copy\n",
      "  after removing the cwd from sys.path.\n"
     ]
    }
   ],
   "source": [
    "train = trainx.copy()\n",
    "train[\"Place\"][(train[\"Place\"] != \"VA\") & (train[\"Place\"] != \"Hungary\")] = 2\n",
    "train[\"Place\"][train[\"Place\"] == \"Hungary\"] = 0\n",
    "train[\"Place\"][train[\"Place\"] == \"VA\"] = 1\n",
    "#\n",
    "#pdf = train[\"Place\"][(train[\"Place\"] != \"VA\") & (train[\"Place\"] != \"Hungary\")]"
   ]
  },
  {
   "cell_type": "code",
   "execution_count": 6,
   "metadata": {},
   "outputs": [
    {
     "name": "stdout",
     "output_type": "stream",
     "text": [
      "217\n"
     ]
    }
   ],
   "source": [
    "print(train.isnull().sum().sum())"
   ]
  },
  {
   "cell_type": "code",
   "execution_count": 7,
   "metadata": {},
   "outputs": [
    {
     "data": {
      "text/html": [
       "<div>\n",
       "<style scoped>\n",
       "    .dataframe tbody tr th:only-of-type {\n",
       "        vertical-align: middle;\n",
       "    }\n",
       "\n",
       "    .dataframe tbody tr th {\n",
       "        vertical-align: top;\n",
       "    }\n",
       "\n",
       "    .dataframe thead th {\n",
       "        text-align: right;\n",
       "    }\n",
       "</style>\n",
       "<table border=\"1\" class=\"dataframe\">\n",
       "  <thead>\n",
       "    <tr style=\"text-align: right;\">\n",
       "      <th></th>\n",
       "      <th>ID</th>\n",
       "      <th>Age</th>\n",
       "      <th>Sex</th>\n",
       "      <th>cp</th>\n",
       "      <th>trestbps</th>\n",
       "      <th>chol</th>\n",
       "      <th>fbs</th>\n",
       "      <th>restecg</th>\n",
       "      <th>thalach</th>\n",
       "      <th>exang</th>\n",
       "      <th>oldpeak</th>\n",
       "      <th>num</th>\n",
       "    </tr>\n",
       "  </thead>\n",
       "  <tbody>\n",
       "    <tr>\n",
       "      <td>count</td>\n",
       "      <td>457.000000</td>\n",
       "      <td>457.000000</td>\n",
       "      <td>457.000000</td>\n",
       "      <td>457.000000</td>\n",
       "      <td>424.000000</td>\n",
       "      <td>431.000000</td>\n",
       "      <td>403.000000</td>\n",
       "      <td>455.000000</td>\n",
       "      <td>424.000000</td>\n",
       "      <td>424.000000</td>\n",
       "      <td>421.000000</td>\n",
       "      <td>457.000000</td>\n",
       "    </tr>\n",
       "    <tr>\n",
       "      <td>mean</td>\n",
       "      <td>229.000000</td>\n",
       "      <td>50.962801</td>\n",
       "      <td>0.796499</td>\n",
       "      <td>3.155361</td>\n",
       "      <td>131.488208</td>\n",
       "      <td>200.048724</td>\n",
       "      <td>0.138958</td>\n",
       "      <td>0.356044</td>\n",
       "      <td>134.910377</td>\n",
       "      <td>0.358491</td>\n",
       "      <td>0.622090</td>\n",
       "      <td>0.459519</td>\n",
       "    </tr>\n",
       "    <tr>\n",
       "      <td>std</td>\n",
       "      <td>132.068795</td>\n",
       "      <td>9.219588</td>\n",
       "      <td>0.403043</td>\n",
       "      <td>0.943548</td>\n",
       "      <td>18.829454</td>\n",
       "      <td>113.463794</td>\n",
       "      <td>0.346332</td>\n",
       "      <td>0.590529</td>\n",
       "      <td>24.251177</td>\n",
       "      <td>0.480124</td>\n",
       "      <td>0.922115</td>\n",
       "      <td>0.498905</td>\n",
       "    </tr>\n",
       "    <tr>\n",
       "      <td>min</td>\n",
       "      <td>1.000000</td>\n",
       "      <td>28.000000</td>\n",
       "      <td>0.000000</td>\n",
       "      <td>1.000000</td>\n",
       "      <td>80.000000</td>\n",
       "      <td>0.000000</td>\n",
       "      <td>0.000000</td>\n",
       "      <td>0.000000</td>\n",
       "      <td>69.000000</td>\n",
       "      <td>0.000000</td>\n",
       "      <td>-2.600000</td>\n",
       "      <td>0.000000</td>\n",
       "    </tr>\n",
       "    <tr>\n",
       "      <td>25%</td>\n",
       "      <td>115.000000</td>\n",
       "      <td>45.000000</td>\n",
       "      <td>1.000000</td>\n",
       "      <td>2.000000</td>\n",
       "      <td>120.000000</td>\n",
       "      <td>171.000000</td>\n",
       "      <td>0.000000</td>\n",
       "      <td>0.000000</td>\n",
       "      <td>118.000000</td>\n",
       "      <td>0.000000</td>\n",
       "      <td>0.000000</td>\n",
       "      <td>0.000000</td>\n",
       "    </tr>\n",
       "    <tr>\n",
       "      <td>50%</td>\n",
       "      <td>229.000000</td>\n",
       "      <td>52.000000</td>\n",
       "      <td>1.000000</td>\n",
       "      <td>3.000000</td>\n",
       "      <td>130.000000</td>\n",
       "      <td>220.000000</td>\n",
       "      <td>0.000000</td>\n",
       "      <td>0.000000</td>\n",
       "      <td>135.000000</td>\n",
       "      <td>0.000000</td>\n",
       "      <td>0.000000</td>\n",
       "      <td>0.000000</td>\n",
       "    </tr>\n",
       "    <tr>\n",
       "      <td>75%</td>\n",
       "      <td>343.000000</td>\n",
       "      <td>57.000000</td>\n",
       "      <td>1.000000</td>\n",
       "      <td>4.000000</td>\n",
       "      <td>140.000000</td>\n",
       "      <td>269.500000</td>\n",
       "      <td>0.000000</td>\n",
       "      <td>1.000000</td>\n",
       "      <td>150.000000</td>\n",
       "      <td>1.000000</td>\n",
       "      <td>1.000000</td>\n",
       "      <td>1.000000</td>\n",
       "    </tr>\n",
       "    <tr>\n",
       "      <td>max</td>\n",
       "      <td>457.000000</td>\n",
       "      <td>75.000000</td>\n",
       "      <td>1.000000</td>\n",
       "      <td>4.000000</td>\n",
       "      <td>200.000000</td>\n",
       "      <td>603.000000</td>\n",
       "      <td>1.000000</td>\n",
       "      <td>2.000000</td>\n",
       "      <td>190.000000</td>\n",
       "      <td>1.000000</td>\n",
       "      <td>5.000000</td>\n",
       "      <td>1.000000</td>\n",
       "    </tr>\n",
       "  </tbody>\n",
       "</table>\n",
       "</div>"
      ],
      "text/plain": [
       "               ID         Age         Sex          cp    trestbps        chol  \\\n",
       "count  457.000000  457.000000  457.000000  457.000000  424.000000  431.000000   \n",
       "mean   229.000000   50.962801    0.796499    3.155361  131.488208  200.048724   \n",
       "std    132.068795    9.219588    0.403043    0.943548   18.829454  113.463794   \n",
       "min      1.000000   28.000000    0.000000    1.000000   80.000000    0.000000   \n",
       "25%    115.000000   45.000000    1.000000    2.000000  120.000000  171.000000   \n",
       "50%    229.000000   52.000000    1.000000    3.000000  130.000000  220.000000   \n",
       "75%    343.000000   57.000000    1.000000    4.000000  140.000000  269.500000   \n",
       "max    457.000000   75.000000    1.000000    4.000000  200.000000  603.000000   \n",
       "\n",
       "              fbs     restecg     thalach       exang     oldpeak         num  \n",
       "count  403.000000  455.000000  424.000000  424.000000  421.000000  457.000000  \n",
       "mean     0.138958    0.356044  134.910377    0.358491    0.622090    0.459519  \n",
       "std      0.346332    0.590529   24.251177    0.480124    0.922115    0.498905  \n",
       "min      0.000000    0.000000   69.000000    0.000000   -2.600000    0.000000  \n",
       "25%      0.000000    0.000000  118.000000    0.000000    0.000000    0.000000  \n",
       "50%      0.000000    0.000000  135.000000    0.000000    0.000000    0.000000  \n",
       "75%      0.000000    1.000000  150.000000    1.000000    1.000000    1.000000  \n",
       "max      1.000000    2.000000  190.000000    1.000000    5.000000    1.000000  "
      ]
     },
     "execution_count": 7,
     "metadata": {},
     "output_type": "execute_result"
    }
   ],
   "source": [
    "train.describe()\n"
   ]
  },
  {
   "cell_type": "code",
   "execution_count": 8,
   "metadata": {},
   "outputs": [
    {
     "name": "stdout",
     "output_type": "stream",
     "text": [
      "   ID  Age  Sex  cp  trestbps   chol  fbs  restecg  thalach  exang  oldpeak  \\\n",
      "0   1   28    1   2     130.0  132.0  0.0      2.0    185.0    0.0      0.0   \n",
      "1   2   29    1   2     120.0  243.0  0.0      0.0    160.0    0.0      0.0   \n",
      "2   3   29    1   2     140.0    NaN  0.0      0.0    170.0    0.0      0.0   \n",
      "3   4   30    0   1     170.0  237.0  0.0      1.0    170.0    0.0      0.0   \n",
      "4   5   31    0   2     100.0  219.0  0.0      1.0    150.0    0.0      0.0   \n",
      "\n",
      "   num Place  \n",
      "0    0     0  \n",
      "1    0     0  \n",
      "2    0     0  \n",
      "3    0     0  \n",
      "4    0     0  \n"
     ]
    }
   ],
   "source": [
    "print(train.head())"
   ]
  },
  {
   "cell_type": "markdown",
   "metadata": {},
   "source": [
    "### Analizamos como rellenar los datos faltantes\n",
    "- En el colesterol (chol) es interesante pensar en el promedio, \n",
    "    aunque se me ocurren muchas maneras, como poner el promedio de similares.\n",
    "- En la presion arterial con la que ingresaron (trestbps) es interesante utilizar promedio\n",
    "    aunque plantear el uso de similitudes se debe considerar.\n",
    "- En el campo que indica si si tiene el azucar en la sangre > 120 mg/dl (fbs) se debe considerar que 1 es para true\n",
    "    y 0 es para false, sin embargo no es un campo que podamos rellenar a la ligera\n",
    "    por lo tanto se debe considerar si se elimina.\n",
    "- Los resultados electrocardiográficos en reposo (restecg) son Value 0: normal, Value 1: con anormalidad de la onda ST-T (inversiones de la onda T y / o elevación o depresión del ST> 0.05 mV) y Valor 2: muestra hipertrofia ventricular izquierda probable o definitiva según los criterios de Estes. Por todo lo anterior rellenarlos no es factible con el promedio.\n",
    "- La frecuencia cardíaca máxima alcanzada (thalach) es otro atributo que se puede relenar con promedios pero\n",
    "    considerando que esto es un principal sintoma de afeciones cardiacas, por lo que recomiendo\n",
    "    utilizar el promedio pero de los que poseen afecciones en caso de afectado, o promedio de los que no en caso\n",
    "    de ser una persona que no se le encontro afeciones cardiacas.\n",
    "- La depresión del ST inducida por el ejercicio relativo al descanso (oldpeak) tiene como valores Valor 1: pendiente ascendente - Valor 2: plano - Valor 3: pendiente descendente. este valor no es factible rellenarlo\n",
    "- La angina inducida por ejercicio (1 = sí; 0 = no) (exang) es otro valor que conviene analizar la forma de rellenarlo, ya que aplicar un simple promedio no es valido.\n",
    "\n",
    "    \n"
   ]
  },
  {
   "cell_type": "markdown",
   "metadata": {},
   "source": [
    "## Rellenando los datos con ayuda medica\n",
    "Para tener unos datos mas confiables la información restante se completa utilizando el criterios medicos encontrados en la web y con la ayuda del medico xxxx quien presto su asesoramiento en temas cardiacos. Por tal motivo los se definen los datos faltamtes de esta forma:\n",
    "\n",
    "- En el colesterol (chol) se rellena con promedio, pero relacionando afeciones cardiacas con dicho promedio, es decir si el dato faltante corresponde a una persona con afeccion cardiaca se rellena con promedio de afecciones cardiacas."
   ]
  },
  {
   "cell_type": "code",
   "execution_count": 9,
   "metadata": {},
   "outputs": [
    {
     "name": "stdout",
     "output_type": "stream",
     "text": [
      "217.30701754385964\n",
      "180.66502463054186\n",
      "191\n"
     ]
    },
    {
     "name": "stderr",
     "output_type": "stream",
     "text": [
      "/home/dacer/anaconda3/envs/proyecto/lib/python3.7/site-packages/ipykernel_launcher.py:4: SettingWithCopyWarning: \n",
      "A value is trying to be set on a copy of a slice from a DataFrame\n",
      "\n",
      "See the caveats in the documentation: http://pandas.pydata.org/pandas-docs/stable/user_guide/indexing.html#returning-a-view-versus-a-copy\n",
      "  after removing the cwd from sys.path.\n",
      "/home/dacer/anaconda3/envs/proyecto/lib/python3.7/site-packages/ipykernel_launcher.py:5: SettingWithCopyWarning: \n",
      "A value is trying to be set on a copy of a slice from a DataFrame\n",
      "\n",
      "See the caveats in the documentation: http://pandas.pydata.org/pandas-docs/stable/user_guide/indexing.html#returning-a-view-versus-a-copy\n",
      "  \"\"\"\n"
     ]
    }
   ],
   "source": [
    "cholPromDisease = train[\"chol\"][train[\"num\"] == 1].mean()\n",
    "cholPromNotDisease = train[\"chol\"][train[\"num\"] == 0].mean()\n",
    "#Se reemplaza segun cirterio de daño y colesterol\n",
    "train[\"chol\"][train[\"num\"] == 0] = train[\"chol\"].fillna(cholPromNotDisease)\n",
    "train[\"chol\"][train[\"num\"] == 1] = train[\"chol\"].fillna(cholPromDisease)\n",
    "print(cholPromNotDisease)\n",
    "print(cholPromDisease)\n",
    "\n",
    "print(train.isnull().sum().sum())\n",
    "#.mean ()"
   ]
  },
  {
   "cell_type": "markdown",
   "metadata": {},
   "source": [
    "- En la presion arterial con la que ingresaron (trestbps) se plantea el mismo tipo de promedio que en Colesterol"
   ]
  },
  {
   "cell_type": "code",
   "execution_count": 10,
   "metadata": {},
   "outputs": [
    {
     "name": "stdout",
     "output_type": "stream",
     "text": [
      "130.3920704845815\n",
      "132.751269035533\n",
      "158\n"
     ]
    },
    {
     "name": "stderr",
     "output_type": "stream",
     "text": [
      "/home/dacer/anaconda3/envs/proyecto/lib/python3.7/site-packages/ipykernel_launcher.py:4: SettingWithCopyWarning: \n",
      "A value is trying to be set on a copy of a slice from a DataFrame\n",
      "\n",
      "See the caveats in the documentation: http://pandas.pydata.org/pandas-docs/stable/user_guide/indexing.html#returning-a-view-versus-a-copy\n",
      "  after removing the cwd from sys.path.\n",
      "/home/dacer/anaconda3/envs/proyecto/lib/python3.7/site-packages/ipykernel_launcher.py:5: SettingWithCopyWarning: \n",
      "A value is trying to be set on a copy of a slice from a DataFrame\n",
      "\n",
      "See the caveats in the documentation: http://pandas.pydata.org/pandas-docs/stable/user_guide/indexing.html#returning-a-view-versus-a-copy\n",
      "  \"\"\"\n"
     ]
    }
   ],
   "source": [
    "trestbpsPromDisease = train[\"trestbps\"][train[\"num\"] == 1].mean()\n",
    "trestbpsPromNotDisease = train[\"trestbps\"][train[\"num\"] == 0].mean()\n",
    "#Se reemplaza segun cirterio de daño y presion de ingreso\n",
    "train[\"trestbps\"][train[\"num\"] == 0] = train[\"trestbps\"].fillna(trestbpsPromNotDisease)\n",
    "train[\"trestbps\"][train[\"num\"] == 1] = train[\"trestbps\"].fillna(trestbpsPromDisease)\n",
    "print(trestbpsPromNotDisease)\n",
    "print(trestbpsPromDisease)\n",
    "\n",
    "print(train.isnull().sum().sum())"
   ]
  },
  {
   "cell_type": "markdown",
   "metadata": {},
   "source": [
    "- La frecuencia cardíaca máxima alcanzada (thalach) se rellena igual que el colesterol"
   ]
  },
  {
   "cell_type": "code",
   "execution_count": 11,
   "metadata": {},
   "outputs": [
    {
     "name": "stderr",
     "output_type": "stream",
     "text": [
      "/home/dacer/anaconda3/envs/proyecto/lib/python3.7/site-packages/ipykernel_launcher.py:4: SettingWithCopyWarning: \n",
      "A value is trying to be set on a copy of a slice from a DataFrame\n",
      "\n",
      "See the caveats in the documentation: http://pandas.pydata.org/pandas-docs/stable/user_guide/indexing.html#returning-a-view-versus-a-copy\n",
      "  after removing the cwd from sys.path.\n",
      "/home/dacer/anaconda3/envs/proyecto/lib/python3.7/site-packages/ipykernel_launcher.py:5: SettingWithCopyWarning: \n",
      "A value is trying to be set on a copy of a slice from a DataFrame\n",
      "\n",
      "See the caveats in the documentation: http://pandas.pydata.org/pandas-docs/stable/user_guide/indexing.html#returning-a-view-versus-a-copy\n",
      "  \"\"\"\n"
     ]
    },
    {
     "name": "stdout",
     "output_type": "stream",
     "text": [
      "141.88105726872246\n",
      "126.87817258883248\n",
      "125\n"
     ]
    }
   ],
   "source": [
    "thalachPromDisease = train[\"thalach\"][train[\"num\"] == 1].mean()\n",
    "thalachPromNotDisease = train[\"thalach\"][train[\"num\"] == 0].mean()\n",
    "#Se reemplaza segun cirterio de daño y presion de ingreso\n",
    "train[\"thalach\"][train[\"num\"] == 0] = train[\"thalach\"].fillna(trestbpsPromNotDisease)\n",
    "train[\"thalach\"][train[\"num\"] == 1] = train[\"thalach\"].fillna(trestbpsPromDisease)\n",
    "print(thalachPromNotDisease)\n",
    "print(thalachPromDisease)\n",
    "\n",
    "print(train.isnull().sum().sum())"
   ]
  },
  {
   "cell_type": "markdown",
   "metadata": {},
   "source": [
    "- El valor de angina por ejercicio es muy interesante de analizar. Esta condicion se presenta normalmente en personas mayores de 30 (mujeres 35/40) con enfermedad arterial coronaria (EAC), es decir se presenta cuando aparece una condicion cardiaca y como el estrechamiento de la válvula aórtica del corazón (estenosis aórtica). que tambien se relaciona con taponamientos debido a altos niveles de colesterol. Dado lo anterior se propone rellenar este valor dependiendo de si presenta una afeccion cardiaca, si tiene un colestrol alto y si es mayor de 35."
   ]
  },
  {
   "cell_type": "code",
   "execution_count": 12,
   "metadata": {},
   "outputs": [
    {
     "name": "stderr",
     "output_type": "stream",
     "text": [
      "/home/dacer/anaconda3/envs/proyecto/lib/python3.7/site-packages/ipykernel_launcher.py:1: SettingWithCopyWarning: \n",
      "A value is trying to be set on a copy of a slice from a DataFrame\n",
      "\n",
      "See the caveats in the documentation: http://pandas.pydata.org/pandas-docs/stable/user_guide/indexing.html#returning-a-view-versus-a-copy\n",
      "  \"\"\"Entry point for launching an IPython kernel.\n",
      "/home/dacer/anaconda3/envs/proyecto/lib/python3.7/site-packages/ipykernel_launcher.py:2: SettingWithCopyWarning: \n",
      "A value is trying to be set on a copy of a slice from a DataFrame\n",
      "\n",
      "See the caveats in the documentation: http://pandas.pydata.org/pandas-docs/stable/user_guide/indexing.html#returning-a-view-versus-a-copy\n",
      "  \n",
      "/home/dacer/anaconda3/envs/proyecto/lib/python3.7/site-packages/ipykernel_launcher.py:3: SettingWithCopyWarning: \n",
      "A value is trying to be set on a copy of a slice from a DataFrame\n",
      "\n",
      "See the caveats in the documentation: http://pandas.pydata.org/pandas-docs/stable/user_guide/indexing.html#returning-a-view-versus-a-copy\n",
      "  This is separate from the ipykernel package so we can avoid doing imports until\n",
      "/home/dacer/anaconda3/envs/proyecto/lib/python3.7/site-packages/ipykernel_launcher.py:4: SettingWithCopyWarning: \n",
      "A value is trying to be set on a copy of a slice from a DataFrame\n",
      "\n",
      "See the caveats in the documentation: http://pandas.pydata.org/pandas-docs/stable/user_guide/indexing.html#returning-a-view-versus-a-copy\n",
      "  after removing the cwd from sys.path.\n"
     ]
    }
   ],
   "source": [
    "train[\"exang\"][(train[\"num\"] == 1) & (train[\"Age\"] > 35) & (train[\"chol\"] > 160.0 ) ] = train[\"exang\"].fillna(1)\n",
    "train[\"exang\"][(train[\"num\"] == 1) & (train[\"Age\"] < 30) & (train[\"chol\"] < 130.0 ) ] = train[\"exang\"].fillna(0)\n",
    "train[\"exang\"][(train[\"num\"] == 0) & (train[\"Age\"] > 35) & (train[\"chol\"] > 190.0 ) ] = train[\"exang\"].fillna(1)\n",
    "train[\"exang\"][(train[\"num\"] == 0) & (train[\"Age\"] < 30) & (train[\"chol\"] > 130.0 ) ] = train[\"exang\"].fillna(0)\n",
    "train[\"exang\"]=train[\"exang\"].fillna(0)\n"
   ]
  },
  {
   "cell_type": "markdown",
   "metadata": {},
   "source": [
    "- Para los valores de glucosa (FBS) es interesante conocer que los niveles altos de clucosa se asocian con la diabetes que es uno de los factores mas reconocidos de la aparicion de cardiopatias, es por eso que este valor se puede rellenar considerando los valores de cardiopatias. Tambien se asocia las cardiopatias diabeticas y el colesterol alto. Por lo anterior se utilizaran estos 2 valores para aportar mas información al dataset"
   ]
  },
  {
   "cell_type": "code",
   "execution_count": 13,
   "metadata": {},
   "outputs": [
    {
     "name": "stderr",
     "output_type": "stream",
     "text": [
      "/home/dacer/anaconda3/envs/proyecto/lib/python3.7/site-packages/ipykernel_launcher.py:1: SettingWithCopyWarning: \n",
      "A value is trying to be set on a copy of a slice from a DataFrame\n",
      "\n",
      "See the caveats in the documentation: http://pandas.pydata.org/pandas-docs/stable/user_guide/indexing.html#returning-a-view-versus-a-copy\n",
      "  \"\"\"Entry point for launching an IPython kernel.\n",
      "/home/dacer/anaconda3/envs/proyecto/lib/python3.7/site-packages/ipykernel_launcher.py:2: SettingWithCopyWarning: \n",
      "A value is trying to be set on a copy of a slice from a DataFrame\n",
      "\n",
      "See the caveats in the documentation: http://pandas.pydata.org/pandas-docs/stable/user_guide/indexing.html#returning-a-view-versus-a-copy\n",
      "  \n"
     ]
    }
   ],
   "source": [
    "train[\"fbs\"][(train[\"num\"] == 1) & (train[\"chol\"] > 130.0 ) ] = train[\"exang\"].fillna(1)\n",
    "train[\"fbs\"][(train[\"num\"] == 0) & (train[\"chol\"] > 130.0 ) ] = train[\"exang\"].fillna(0)\n",
    "train[\"fbs\"]=train[\"fbs\"].fillna(0)\n",
    "\n"
   ]
  },
  {
   "cell_type": "markdown",
   "metadata": {},
   "source": [
    "#### Valores de electrocardiogramas y segmentos ST\n",
    "Para estos valores hacer analisis sobre los datos es muy complejo, ya que son el resultado de medotod medicos muy especificos, es por tal motivo que se decide eliminar estos valores."
   ]
  },
  {
   "cell_type": "code",
   "execution_count": 14,
   "metadata": {},
   "outputs": [
    {
     "name": "stdout",
     "output_type": "stream",
     "text": [
      "0\n"
     ]
    }
   ],
   "source": [
    "del train[\"restecg\"]\n",
    "del train[\"oldpeak\"]\n",
    "print(train.isnull().sum().sum())"
   ]
  },
  {
   "cell_type": "code",
   "execution_count": 15,
   "metadata": {},
   "outputs": [
    {
     "name": "stdout",
     "output_type": "stream",
     "text": [
      "   ID  Age  Sex  cp  trestbps        chol  fbs  thalach  exang  num Place\n",
      "0   1   28    1   2     130.0  132.000000  0.0    185.0    0.0    0     0\n",
      "1   2   29    1   2     120.0  243.000000  0.0    160.0    0.0    0     0\n",
      "2   3   29    1   2     140.0  217.307018  0.0    170.0    0.0    0     0\n",
      "3   4   30    0   1     170.0  237.000000  0.0    170.0    0.0    0     0\n",
      "4   5   31    0   2     100.0  219.000000  0.0    150.0    0.0    0     0\n"
     ]
    },
    {
     "data": {
      "text/html": [
       "<div>\n",
       "<style scoped>\n",
       "    .dataframe tbody tr th:only-of-type {\n",
       "        vertical-align: middle;\n",
       "    }\n",
       "\n",
       "    .dataframe tbody tr th {\n",
       "        vertical-align: top;\n",
       "    }\n",
       "\n",
       "    .dataframe thead th {\n",
       "        text-align: right;\n",
       "    }\n",
       "</style>\n",
       "<table border=\"1\" class=\"dataframe\">\n",
       "  <thead>\n",
       "    <tr style=\"text-align: right;\">\n",
       "      <th></th>\n",
       "      <th>ID</th>\n",
       "      <th>Age</th>\n",
       "      <th>Sex</th>\n",
       "      <th>cp</th>\n",
       "      <th>trestbps</th>\n",
       "      <th>chol</th>\n",
       "      <th>fbs</th>\n",
       "      <th>thalach</th>\n",
       "      <th>exang</th>\n",
       "      <th>num</th>\n",
       "    </tr>\n",
       "  </thead>\n",
       "  <tbody>\n",
       "    <tr>\n",
       "      <td>count</td>\n",
       "      <td>457.000000</td>\n",
       "      <td>457.000000</td>\n",
       "      <td>457.000000</td>\n",
       "      <td>457.000000</td>\n",
       "      <td>457.000000</td>\n",
       "      <td>457.000000</td>\n",
       "      <td>457.000000</td>\n",
       "      <td>457.000000</td>\n",
       "      <td>457.000000</td>\n",
       "      <td>457.000000</td>\n",
       "    </tr>\n",
       "    <tr>\n",
       "      <td>mean</td>\n",
       "      <td>229.000000</td>\n",
       "      <td>50.962801</td>\n",
       "      <td>0.796499</td>\n",
       "      <td>3.155361</td>\n",
       "      <td>131.476166</td>\n",
       "      <td>200.469340</td>\n",
       "      <td>0.310722</td>\n",
       "      <td>134.651221</td>\n",
       "      <td>0.380744</td>\n",
       "      <td>0.459519</td>\n",
       "    </tr>\n",
       "    <tr>\n",
       "      <td>std</td>\n",
       "      <td>132.068795</td>\n",
       "      <td>9.219588</td>\n",
       "      <td>0.403043</td>\n",
       "      <td>0.943548</td>\n",
       "      <td>18.138033</td>\n",
       "      <td>110.263265</td>\n",
       "      <td>0.463296</td>\n",
       "      <td>23.377752</td>\n",
       "      <td>0.486102</td>\n",
       "      <td>0.498905</td>\n",
       "    </tr>\n",
       "    <tr>\n",
       "      <td>min</td>\n",
       "      <td>1.000000</td>\n",
       "      <td>28.000000</td>\n",
       "      <td>0.000000</td>\n",
       "      <td>1.000000</td>\n",
       "      <td>80.000000</td>\n",
       "      <td>0.000000</td>\n",
       "      <td>0.000000</td>\n",
       "      <td>69.000000</td>\n",
       "      <td>0.000000</td>\n",
       "      <td>0.000000</td>\n",
       "    </tr>\n",
       "    <tr>\n",
       "      <td>25%</td>\n",
       "      <td>115.000000</td>\n",
       "      <td>45.000000</td>\n",
       "      <td>1.000000</td>\n",
       "      <td>2.000000</td>\n",
       "      <td>120.000000</td>\n",
       "      <td>179.000000</td>\n",
       "      <td>0.000000</td>\n",
       "      <td>120.000000</td>\n",
       "      <td>0.000000</td>\n",
       "      <td>0.000000</td>\n",
       "    </tr>\n",
       "    <tr>\n",
       "      <td>50%</td>\n",
       "      <td>229.000000</td>\n",
       "      <td>52.000000</td>\n",
       "      <td>1.000000</td>\n",
       "      <td>3.000000</td>\n",
       "      <td>130.000000</td>\n",
       "      <td>217.307018</td>\n",
       "      <td>0.000000</td>\n",
       "      <td>132.751269</td>\n",
       "      <td>0.000000</td>\n",
       "      <td>0.000000</td>\n",
       "    </tr>\n",
       "    <tr>\n",
       "      <td>75%</td>\n",
       "      <td>343.000000</td>\n",
       "      <td>57.000000</td>\n",
       "      <td>1.000000</td>\n",
       "      <td>4.000000</td>\n",
       "      <td>140.000000</td>\n",
       "      <td>266.000000</td>\n",
       "      <td>1.000000</td>\n",
       "      <td>150.000000</td>\n",
       "      <td>1.000000</td>\n",
       "      <td>1.000000</td>\n",
       "    </tr>\n",
       "    <tr>\n",
       "      <td>max</td>\n",
       "      <td>457.000000</td>\n",
       "      <td>75.000000</td>\n",
       "      <td>1.000000</td>\n",
       "      <td>4.000000</td>\n",
       "      <td>200.000000</td>\n",
       "      <td>603.000000</td>\n",
       "      <td>1.000000</td>\n",
       "      <td>190.000000</td>\n",
       "      <td>1.000000</td>\n",
       "      <td>1.000000</td>\n",
       "    </tr>\n",
       "  </tbody>\n",
       "</table>\n",
       "</div>"
      ],
      "text/plain": [
       "               ID         Age         Sex          cp    trestbps        chol  \\\n",
       "count  457.000000  457.000000  457.000000  457.000000  457.000000  457.000000   \n",
       "mean   229.000000   50.962801    0.796499    3.155361  131.476166  200.469340   \n",
       "std    132.068795    9.219588    0.403043    0.943548   18.138033  110.263265   \n",
       "min      1.000000   28.000000    0.000000    1.000000   80.000000    0.000000   \n",
       "25%    115.000000   45.000000    1.000000    2.000000  120.000000  179.000000   \n",
       "50%    229.000000   52.000000    1.000000    3.000000  130.000000  217.307018   \n",
       "75%    343.000000   57.000000    1.000000    4.000000  140.000000  266.000000   \n",
       "max    457.000000   75.000000    1.000000    4.000000  200.000000  603.000000   \n",
       "\n",
       "              fbs     thalach       exang         num  \n",
       "count  457.000000  457.000000  457.000000  457.000000  \n",
       "mean     0.310722  134.651221    0.380744    0.459519  \n",
       "std      0.463296   23.377752    0.486102    0.498905  \n",
       "min      0.000000   69.000000    0.000000    0.000000  \n",
       "25%      0.000000  120.000000    0.000000    0.000000  \n",
       "50%      0.000000  132.751269    0.000000    0.000000  \n",
       "75%      1.000000  150.000000    1.000000    1.000000  \n",
       "max      1.000000  190.000000    1.000000    1.000000  "
      ]
     },
     "execution_count": 15,
     "metadata": {},
     "output_type": "execute_result"
    }
   ],
   "source": [
    "print(train.head())\n",
    "train.describe()\n"
   ]
  },
  {
   "cell_type": "markdown",
   "metadata": {},
   "source": [
    "partimos en 80 20"
   ]
  },
  {
   "cell_type": "code",
   "execution_count": 16,
   "metadata": {},
   "outputs": [
    {
     "name": "stdout",
     "output_type": "stream",
     "text": [
      "(365, 8) (365,)\n",
      "(92, 8) (92,)\n"
     ]
    }
   ],
   "source": [
    "from sklearn.model_selection import train_test_split\n",
    "\n",
    "\n",
    "# vamos a definir los objetivos en target y los predictores\n",
    "features = train[[\"Age\",\"Sex\",\"cp\", \"trestbps\", \"thalach\", \"exang\",\"chol\",\"fbs\"]].values\n",
    "target = train[\"num\"].values\n",
    "\n",
    "\n",
    "# Split the data into train and test\n",
    "trainX, testX, trainY, testY = train_test_split(features, target, test_size=0.2)\n",
    "h=.02 \n",
    "x_min, x_max = trainX[:, 0].min() - .5, trainX[:, 0].max() + .5\n",
    "    y_min, y_max = trainX[:, 1].min() - .5, trainX[:, 1].max() + .5\n",
    "    xx, yy = np.meshgrid(np.arange(x_min, x_max, h),\n",
    "                         np.arange(y_min, y_max, h))\n",
    "\n",
    "\n",
    "print(trainX.shape, trainY.shape)\n",
    "print(testX.shape, testY.shape)"
   ]
  },
  {
   "cell_type": "markdown",
   "metadata": {},
   "source": [
    "## Entrenamiento\n",
    "Aqui se debe considerar que la predición no se pude realizar si no se rellenan todos los datos, \n",
    "por tal motivo esta parte estara pendiente hasta discutir el relleno de datos del corazon"
   ]
  },
  {
   "cell_type": "code",
   "execution_count": 17,
   "metadata": {},
   "outputs": [
    {
     "name": "stdout",
     "output_type": "stream",
     "text": [
      "0.7780821917808219\n",
      "0.7608695652173914\n"
     ]
    }
   ],
   "source": [
    "gnb = GaussianNB()\n",
    "\n",
    "model2 = gnb.fit(trainX, trainY)\n",
    "\n",
    "#Print the score on the train data\n",
    "print(model2.score(trainX, trainY))\n",
    "#Print the score on the test data\n",
    "print(model2.score(testX, testY))"
   ]
  },
  {
   "cell_type": "code",
   "execution_count": 21,
   "metadata": {},
   "outputs": [
    {
     "data": {
      "image/png": "[encoded data removed]",
      "text/plain": [
       "<Figure size 432x288 with 1 Axes>"
      ]
     },
     "metadata": {
      "needs_background": "light"
     },
     "output_type": "display_data"
    }
   ],
   "source": [
    "ax = plt.subplot(1, 1 , 1)"
   ]
  },
  {
   "cell_type": "code",
   "execution_count": 20,
   "metadata": {},
   "outputs": [
    {
     "data": {
      "image/png": "[encoded data removed]",
      "text/plain": [
       "<Figure size 1944x648 with 6 Axes>"
      ]
     },
     "metadata": {},
     "output_type": "display_data"
    }
   ],
   "source": [
    "import numpy as np\n",
    "import matplotlib.pyplot as plt\n",
    "from matplotlib.colors import ListedColormap\n",
    "from sklearn.model_selection import train_test_split\n",
    "from sklearn.preprocessing import StandardScaler\n",
    "from sklearn.datasets import make_moons, make_circles, make_classification\n",
    "from sklearn.neural_network import MLPClassifier\n",
    "from sklearn.neighbors import KNeighborsClassifier\n",
    "from sklearn.svm import SVC\n",
    "from sklearn.gaussian_process import GaussianProcessClassifier\n",
    "from sklearn.gaussian_process.kernels import RBF\n",
    "from sklearn.tree import DecisionTreeClassifier\n",
    "from sklearn.ensemble import RandomForestClassifier, AdaBoostClassifier\n",
    "from sklearn.naive_bayes import GaussianNB\n",
    "from sklearn.discriminant_analysis import QuadraticDiscriminantAnalysis\n",
    "\n",
    "h = .02  # step size in the mesh\n",
    "\n",
    "names = [\"Naive Bayes\"]\n",
    "\n",
    "classifiers = [GaussianNB()]\n",
    "\n",
    "X, y = make_classification(n_features=2, n_redundant=0, n_informative=2,\n",
    "                           random_state=1, n_clusters_per_class=1)\n",
    "rng = np.random.RandomState(2)\n",
    "X += 2 * rng.uniform(size=X.shape)\n",
    "linearly_separable = (X, y)\n",
    "\n",
    "datasets = [make_moons(noise=0.3, random_state=0),\n",
    "            make_circles(noise=0.2, factor=0.5, random_state=1),\n",
    "            linearly_separable\n",
    "            ]\n",
    "\n",
    "figure = plt.figure(figsize=(27, 9))\n",
    "i = 1\n",
    "# iterate over datasets\n",
    "for ds_cnt, ds in enumerate(datasets):\n",
    "    # preprocess dataset, split into training and test part\n",
    "    X, y = ds\n",
    "    X = StandardScaler().fit_transform(X)\n",
    "    X_train, X_test, y_train, y_test = \\\n",
    "        train_test_split(X, y, test_size=.4, random_state=42)\n",
    "\n",
    "    \n",
    "    # just plot the dataset first\n",
    "    cm = plt.cm.RdBu\n",
    "    cm_bright = ListedColormap(['#FF0000', '#0000FF'])\n",
    "    ax = plt.subplot(len(datasets), len(classifiers) + 1, i)\n",
    "    if ds_cnt == 0:\n",
    "        ax.set_title(\"Input data\")\n",
    "    # Plot the training points\n",
    "    ax.scatter(X_train[:, 0], X_train[:, 1], c=y_train, cmap=cm_bright,\n",
    "               edgecolors='k')\n",
    "    # Plot the testing points\n",
    "    ax.scatter(X_test[:, 0], X_test[:, 1], c=y_test, cmap=cm_bright, alpha=0.6,\n",
    "               edgecolors='k')\n",
    "    ax.set_xlim(xx.min(), xx.max())\n",
    "    ax.set_ylim(yy.min(), yy.max())\n",
    "    ax.set_xticks(())\n",
    "    ax.set_yticks(())\n",
    "    i += 1\n",
    "\n",
    "    # iterate over classifiers\n",
    "    for name, clf in zip(names, classifiers):\n",
    "        ax = plt.subplot(len(datasets), len(classifiers) + 1, i)\n",
    "        clf.fit(X_train, y_train)\n",
    "        score = clf.score(X_test, y_test)\n",
    "\n",
    "        # Plot the decision boundary. For that, we will assign a color to each\n",
    "        # point in the mesh [x_min, x_max]x[y_min, y_max].\n",
    "        if hasattr(clf, \"decision_function\"):\n",
    "            Z = clf.decision_function(np.c_[xx.ravel(), yy.ravel()])\n",
    "        else:\n",
    "            Z = clf.predict_proba(np.c_[xx.ravel(), yy.ravel()])[:, 1]\n",
    "\n",
    "        # Put the result into a color plot\n",
    "        Z = Z.reshape(xx.shape)\n",
    "        ax.contourf(xx, yy, Z, cmap=cm, alpha=.8)\n",
    "\n",
    "        # Plot the training points\n",
    "        ax.scatter(X_train[:, 0], X_train[:, 1], c=y_train, cmap=cm_bright,\n",
    "                   edgecolors='k')\n",
    "        # Plot the testing points\n",
    "        ax.scatter(X_test[:, 0], X_test[:, 1], c=y_test, cmap=cm_bright,\n",
    "                   edgecolors='k', alpha=0.6)\n",
    "\n",
    "        ax.set_xlim(xx.min(), xx.max())\n",
    "        ax.set_ylim(yy.min(), yy.max())\n",
    "        ax.set_xticks(())\n",
    "        ax.set_yticks(())\n",
    "        if ds_cnt == 0:\n",
    "            ax.set_title(name)\n",
    "        ax.text(xx.max() - .3, yy.min() + .3, ('%.2f' % score).lstrip('0'),\n",
    "                size=15, horizontalalignment='right')\n",
    "        i += 1\n",
    "\n",
    "plt.tight_layout()\n",
    "plt.show()"
   ]
  },
  {
   "cell_type": "code",
   "execution_count": null,
   "metadata": {},
   "outputs": [],
   "source": []
  }
 ],
 "metadata": {
  "kernelspec": {
   "display_name": "Python 3",
   "language": "python",
   "name": "python3"
  },
  "language_info": {
   "codemirror_mode": {
    "name": "ipython",
    "version": 3
   },
   "file_extension": ".py",
   "mimetype": "text/x-python",
   "name": "python",
   "nbconvert_exporter": "python",
   "pygments_lexer": "ipython3",
   "version": "3.7.4"
  }
 },
 "nbformat": 4,
 "nbformat_minor": 2
}
